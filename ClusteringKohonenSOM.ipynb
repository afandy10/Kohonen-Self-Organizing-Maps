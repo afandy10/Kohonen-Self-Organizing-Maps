{
 "cells": [
  {
   "cell_type": "code",
   "execution_count": 45,
   "metadata": {},
   "outputs": [],
   "source": [
    "import numpy as np\n",
    "import pandas as pd\n",
    "import seaborn as sns\n",
    "import matplotlib.pyplot as plt\n",
    "from sklearn.preprocessing import MinMaxScaler"
   ]
  },
  {
   "cell_type": "markdown",
   "metadata": {},
   "source": [
    "# <b style='color:blue'>Kohonen Self-Organizing Maps</b>"
   ]
  },
  {
   "cell_type": "code",
   "execution_count": 46,
   "metadata": {},
   "outputs": [],
   "source": [
    "def training(data,alpha,m,seed=42,r=0): \n",
    "    global cluster\n",
    "    cluster=[]\n",
    "    np.random.seed(seed)\n",
    "    w = np.random.rand(len(data[1]),m) # initial weight\n",
    "    \n",
    "    for iteration in range(100): # 100 iterations(epochs)\n",
    "        for i in data:\n",
    "            D = [sum((w[:,a]-i)**2) for a in range(m)]\n",
    "            w[:,np.argmin(D)] = w[:,np.argmin(D)] + alpha*(i-w[:,np.argmin(D)])\n",
    "        alpha *= 0.5\n",
    "\n",
    "    for i in data:\n",
    "        nilai=[sum((w[:,a]-i)**2) for a in range(m)]\n",
    "        cluster.append(np.argmin(nilai))"
   ]
  },
  {
   "cell_type": "markdown",
   "metadata": {},
   "source": [
    "# 1. Mall Customers"
   ]
  },
  {
   "cell_type": "code",
   "execution_count": 47,
   "metadata": {
    "scrolled": false
   },
   "outputs": [
    {
     "data": {
      "text/html": [
       "<div>\n",
       "<style scoped>\n",
       "    .dataframe tbody tr th:only-of-type {\n",
       "        vertical-align: middle;\n",
       "    }\n",
       "\n",
       "    .dataframe tbody tr th {\n",
       "        vertical-align: top;\n",
       "    }\n",
       "\n",
       "    .dataframe thead th {\n",
       "        text-align: right;\n",
       "    }\n",
       "</style>\n",
       "<table border=\"1\" class=\"dataframe\">\n",
       "  <thead>\n",
       "    <tr style=\"text-align: right;\">\n",
       "      <th></th>\n",
       "      <th>Gender</th>\n",
       "      <th>Age</th>\n",
       "      <th>Annual Income (k$)</th>\n",
       "      <th>Spending Score (1-100)</th>\n",
       "    </tr>\n",
       "  </thead>\n",
       "  <tbody>\n",
       "    <tr>\n",
       "      <th>0</th>\n",
       "      <td>Male</td>\n",
       "      <td>19</td>\n",
       "      <td>15</td>\n",
       "      <td>39</td>\n",
       "    </tr>\n",
       "    <tr>\n",
       "      <th>1</th>\n",
       "      <td>Male</td>\n",
       "      <td>21</td>\n",
       "      <td>15</td>\n",
       "      <td>81</td>\n",
       "    </tr>\n",
       "    <tr>\n",
       "      <th>2</th>\n",
       "      <td>Female</td>\n",
       "      <td>20</td>\n",
       "      <td>16</td>\n",
       "      <td>6</td>\n",
       "    </tr>\n",
       "    <tr>\n",
       "      <th>3</th>\n",
       "      <td>Female</td>\n",
       "      <td>23</td>\n",
       "      <td>16</td>\n",
       "      <td>77</td>\n",
       "    </tr>\n",
       "    <tr>\n",
       "      <th>4</th>\n",
       "      <td>Female</td>\n",
       "      <td>31</td>\n",
       "      <td>17</td>\n",
       "      <td>40</td>\n",
       "    </tr>\n",
       "  </tbody>\n",
       "</table>\n",
       "</div>"
      ],
      "text/plain": [
       "   Gender  Age  Annual Income (k$)  Spending Score (1-100)\n",
       "0    Male   19                  15                      39\n",
       "1    Male   21                  15                      81\n",
       "2  Female   20                  16                       6\n",
       "3  Female   23                  16                      77\n",
       "4  Female   31                  17                      40"
      ]
     },
     "execution_count": 47,
     "metadata": {},
     "output_type": "execute_result"
    }
   ],
   "source": [
    "data = pd.read_csv('Mall_Customers.csv')\n",
    "data = data.drop('CustomerID', axis=1)\n",
    "data.head()"
   ]
  },
  {
   "cell_type": "markdown",
   "metadata": {},
   "source": [
    "### Pre-Processing"
   ]
  },
  {
   "cell_type": "code",
   "execution_count": 48,
   "metadata": {},
   "outputs": [],
   "source": [
    "data_num = data.select_dtypes(np.number)\n",
    "data_cat = data.select_dtypes(exclude = np.number)"
   ]
  },
  {
   "cell_type": "code",
   "execution_count": 49,
   "metadata": {},
   "outputs": [
    {
     "data": {
      "text/html": [
       "<div>\n",
       "<style scoped>\n",
       "    .dataframe tbody tr th:only-of-type {\n",
       "        vertical-align: middle;\n",
       "    }\n",
       "\n",
       "    .dataframe tbody tr th {\n",
       "        vertical-align: top;\n",
       "    }\n",
       "\n",
       "    .dataframe thead th {\n",
       "        text-align: right;\n",
       "    }\n",
       "</style>\n",
       "<table border=\"1\" class=\"dataframe\">\n",
       "  <thead>\n",
       "    <tr style=\"text-align: right;\">\n",
       "      <th></th>\n",
       "      <th>Age</th>\n",
       "      <th>Annual Income (k$)</th>\n",
       "      <th>Spending Score (1-100)</th>\n",
       "    </tr>\n",
       "  </thead>\n",
       "  <tbody>\n",
       "    <tr>\n",
       "      <th>0</th>\n",
       "      <td>0.019231</td>\n",
       "      <td>0.000000</td>\n",
       "      <td>0.387755</td>\n",
       "    </tr>\n",
       "    <tr>\n",
       "      <th>1</th>\n",
       "      <td>0.057692</td>\n",
       "      <td>0.000000</td>\n",
       "      <td>0.816327</td>\n",
       "    </tr>\n",
       "    <tr>\n",
       "      <th>2</th>\n",
       "      <td>0.038462</td>\n",
       "      <td>0.008197</td>\n",
       "      <td>0.051020</td>\n",
       "    </tr>\n",
       "    <tr>\n",
       "      <th>3</th>\n",
       "      <td>0.096154</td>\n",
       "      <td>0.008197</td>\n",
       "      <td>0.775510</td>\n",
       "    </tr>\n",
       "    <tr>\n",
       "      <th>4</th>\n",
       "      <td>0.250000</td>\n",
       "      <td>0.016393</td>\n",
       "      <td>0.397959</td>\n",
       "    </tr>\n",
       "  </tbody>\n",
       "</table>\n",
       "</div>"
      ],
      "text/plain": [
       "        Age  Annual Income (k$)  Spending Score (1-100)\n",
       "0  0.019231            0.000000                0.387755\n",
       "1  0.057692            0.000000                0.816327\n",
       "2  0.038462            0.008197                0.051020\n",
       "3  0.096154            0.008197                0.775510\n",
       "4  0.250000            0.016393                0.397959"
      ]
     },
     "execution_count": 49,
     "metadata": {},
     "output_type": "execute_result"
    }
   ],
   "source": [
    "scaler = MinMaxScaler()\n",
    "data_num = pd.DataFrame(scaler.fit_transform(data_num), columns=data_num.columns)\n",
    "data_num.head()"
   ]
  },
  {
   "cell_type": "code",
   "execution_count": 50,
   "metadata": {},
   "outputs": [
    {
     "data": {
      "text/html": [
       "<div>\n",
       "<style scoped>\n",
       "    .dataframe tbody tr th:only-of-type {\n",
       "        vertical-align: middle;\n",
       "    }\n",
       "\n",
       "    .dataframe tbody tr th {\n",
       "        vertical-align: top;\n",
       "    }\n",
       "\n",
       "    .dataframe thead th {\n",
       "        text-align: right;\n",
       "    }\n",
       "</style>\n",
       "<table border=\"1\" class=\"dataframe\">\n",
       "  <thead>\n",
       "    <tr style=\"text-align: right;\">\n",
       "      <th></th>\n",
       "      <th>Gender_Female</th>\n",
       "      <th>Gender_Male</th>\n",
       "    </tr>\n",
       "  </thead>\n",
       "  <tbody>\n",
       "    <tr>\n",
       "      <th>0</th>\n",
       "      <td>0</td>\n",
       "      <td>1</td>\n",
       "    </tr>\n",
       "    <tr>\n",
       "      <th>1</th>\n",
       "      <td>0</td>\n",
       "      <td>1</td>\n",
       "    </tr>\n",
       "    <tr>\n",
       "      <th>2</th>\n",
       "      <td>1</td>\n",
       "      <td>0</td>\n",
       "    </tr>\n",
       "    <tr>\n",
       "      <th>3</th>\n",
       "      <td>1</td>\n",
       "      <td>0</td>\n",
       "    </tr>\n",
       "    <tr>\n",
       "      <th>4</th>\n",
       "      <td>1</td>\n",
       "      <td>0</td>\n",
       "    </tr>\n",
       "  </tbody>\n",
       "</table>\n",
       "</div>"
      ],
      "text/plain": [
       "   Gender_Female  Gender_Male\n",
       "0              0            1\n",
       "1              0            1\n",
       "2              1            0\n",
       "3              1            0\n",
       "4              1            0"
      ]
     },
     "execution_count": 50,
     "metadata": {},
     "output_type": "execute_result"
    }
   ],
   "source": [
    "data_cat = pd.get_dummies(data_cat, columns=['Gender'])\n",
    "data_cat.head()"
   ]
  },
  {
   "cell_type": "code",
   "execution_count": 51,
   "metadata": {},
   "outputs": [
    {
     "data": {
      "text/html": [
       "<div>\n",
       "<style scoped>\n",
       "    .dataframe tbody tr th:only-of-type {\n",
       "        vertical-align: middle;\n",
       "    }\n",
       "\n",
       "    .dataframe tbody tr th {\n",
       "        vertical-align: top;\n",
       "    }\n",
       "\n",
       "    .dataframe thead th {\n",
       "        text-align: right;\n",
       "    }\n",
       "</style>\n",
       "<table border=\"1\" class=\"dataframe\">\n",
       "  <thead>\n",
       "    <tr style=\"text-align: right;\">\n",
       "      <th></th>\n",
       "      <th>Age</th>\n",
       "      <th>Annual Income (k$)</th>\n",
       "      <th>Spending Score (1-100)</th>\n",
       "      <th>Gender_Female</th>\n",
       "      <th>Gender_Male</th>\n",
       "    </tr>\n",
       "  </thead>\n",
       "  <tbody>\n",
       "    <tr>\n",
       "      <th>0</th>\n",
       "      <td>0.019231</td>\n",
       "      <td>0.000000</td>\n",
       "      <td>0.387755</td>\n",
       "      <td>0</td>\n",
       "      <td>1</td>\n",
       "    </tr>\n",
       "    <tr>\n",
       "      <th>1</th>\n",
       "      <td>0.057692</td>\n",
       "      <td>0.000000</td>\n",
       "      <td>0.816327</td>\n",
       "      <td>0</td>\n",
       "      <td>1</td>\n",
       "    </tr>\n",
       "    <tr>\n",
       "      <th>2</th>\n",
       "      <td>0.038462</td>\n",
       "      <td>0.008197</td>\n",
       "      <td>0.051020</td>\n",
       "      <td>1</td>\n",
       "      <td>0</td>\n",
       "    </tr>\n",
       "    <tr>\n",
       "      <th>3</th>\n",
       "      <td>0.096154</td>\n",
       "      <td>0.008197</td>\n",
       "      <td>0.775510</td>\n",
       "      <td>1</td>\n",
       "      <td>0</td>\n",
       "    </tr>\n",
       "    <tr>\n",
       "      <th>4</th>\n",
       "      <td>0.250000</td>\n",
       "      <td>0.016393</td>\n",
       "      <td>0.397959</td>\n",
       "      <td>1</td>\n",
       "      <td>0</td>\n",
       "    </tr>\n",
       "  </tbody>\n",
       "</table>\n",
       "</div>"
      ],
      "text/plain": [
       "        Age  Annual Income (k$)  Spending Score (1-100)  Gender_Female  \\\n",
       "0  0.019231            0.000000                0.387755              0   \n",
       "1  0.057692            0.000000                0.816327              0   \n",
       "2  0.038462            0.008197                0.051020              1   \n",
       "3  0.096154            0.008197                0.775510              1   \n",
       "4  0.250000            0.016393                0.397959              1   \n",
       "\n",
       "   Gender_Male  \n",
       "0            1  \n",
       "1            1  \n",
       "2            0  \n",
       "3            0  \n",
       "4            0  "
      ]
     },
     "execution_count": 51,
     "metadata": {},
     "output_type": "execute_result"
    }
   ],
   "source": [
    "# concat 2 dataframes\n",
    "data_prepos = pd.concat([data_num,data_cat],axis=1)\n",
    "data_prepos.head()"
   ]
  },
  {
   "cell_type": "code",
   "execution_count": 52,
   "metadata": {},
   "outputs": [
    {
     "data": {
      "text/plain": [
       "array([[0.01923077, 0.        , 0.3877551 , 0.        , 1.        ],\n",
       "       [0.05769231, 0.        , 0.81632653, 0.        , 1.        ],\n",
       "       [0.03846154, 0.00819672, 0.05102041, 1.        , 0.        ],\n",
       "       [0.09615385, 0.00819672, 0.7755102 , 1.        , 0.        ],\n",
       "       [0.25      , 0.01639344, 0.39795918, 1.        , 0.        ],\n",
       "       [0.07692308, 0.01639344, 0.76530612, 1.        , 0.        ],\n",
       "       [0.32692308, 0.02459016, 0.05102041, 1.        , 0.        ],\n",
       "       [0.09615385, 0.02459016, 0.94897959, 1.        , 0.        ],\n",
       "       [0.88461538, 0.03278689, 0.02040816, 0.        , 1.        ],\n",
       "       [0.23076923, 0.03278689, 0.7244898 , 1.        , 0.        ],\n",
       "       [0.94230769, 0.03278689, 0.13265306, 0.        , 1.        ],\n",
       "       [0.32692308, 0.03278689, 1.        , 1.        , 0.        ],\n",
       "       [0.76923077, 0.04098361, 0.14285714, 1.        , 0.        ],\n",
       "       [0.11538462, 0.04098361, 0.7755102 , 1.        , 0.        ],\n",
       "       [0.36538462, 0.04098361, 0.12244898, 0.        , 1.        ],\n",
       "       [0.07692308, 0.04098361, 0.79591837, 0.        , 1.        ],\n",
       "       [0.32692308, 0.04918033, 0.34693878, 1.        , 0.        ],\n",
       "       [0.03846154, 0.04918033, 0.66326531, 0.        , 1.        ],\n",
       "       [0.65384615, 0.06557377, 0.28571429, 0.        , 1.        ],\n",
       "       [0.32692308, 0.06557377, 0.98979592, 1.        , 0.        ],\n",
       "       [0.32692308, 0.07377049, 0.34693878, 0.        , 1.        ],\n",
       "       [0.13461538, 0.07377049, 0.73469388, 0.        , 1.        ],\n",
       "       [0.53846154, 0.08196721, 0.04081633, 1.        , 0.        ],\n",
       "       [0.25      , 0.08196721, 0.73469388, 0.        , 1.        ],\n",
       "       [0.69230769, 0.10655738, 0.13265306, 1.        , 0.        ],\n",
       "       [0.21153846, 0.10655738, 0.82653061, 0.        , 1.        ],\n",
       "       [0.51923077, 0.10655738, 0.31632653, 1.        , 0.        ],\n",
       "       [0.32692308, 0.10655738, 0.6122449 , 0.        , 1.        ],\n",
       "       [0.42307692, 0.1147541 , 0.30612245, 1.        , 0.        ],\n",
       "       [0.09615385, 0.1147541 , 0.87755102, 1.        , 0.        ],\n",
       "       [0.80769231, 0.12295082, 0.03061224, 0.        , 1.        ],\n",
       "       [0.05769231, 0.12295082, 0.73469388, 1.        , 0.        ],\n",
       "       [0.67307692, 0.14754098, 0.03061224, 0.        , 1.        ],\n",
       "       [0.        , 0.14754098, 0.92857143, 0.        , 1.        ],\n",
       "       [0.59615385, 0.14754098, 0.13265306, 1.        , 0.        ],\n",
       "       [0.05769231, 0.14754098, 0.81632653, 1.        , 0.        ],\n",
       "       [0.46153846, 0.1557377 , 0.16326531, 1.        , 0.        ],\n",
       "       [0.23076923, 0.1557377 , 0.73469388, 1.        , 0.        ],\n",
       "       [0.34615385, 0.18032787, 0.25510204, 1.        , 0.        ],\n",
       "       [0.03846154, 0.18032787, 0.75510204, 1.        , 0.        ],\n",
       "       [0.90384615, 0.18852459, 0.34693878, 1.        , 0.        ],\n",
       "       [0.11538462, 0.18852459, 0.92857143, 0.        , 1.        ],\n",
       "       [0.57692308, 0.19672131, 0.35714286, 0.        , 1.        ],\n",
       "       [0.25      , 0.19672131, 0.6122449 , 1.        , 0.        ],\n",
       "       [0.59615385, 0.19672131, 0.2755102 , 1.        , 0.        ],\n",
       "       [0.11538462, 0.19672131, 0.65306122, 1.        , 0.        ],\n",
       "       [0.61538462, 0.20491803, 0.55102041, 1.        , 0.        ],\n",
       "       [0.17307692, 0.20491803, 0.46938776, 1.        , 0.        ],\n",
       "       [0.21153846, 0.20491803, 0.41836735, 1.        , 0.        ],\n",
       "       [0.25      , 0.20491803, 0.41836735, 1.        , 0.        ],\n",
       "       [0.59615385, 0.22131148, 0.52040816, 1.        , 0.        ],\n",
       "       [0.28846154, 0.22131148, 0.60204082, 0.        , 1.        ],\n",
       "       [0.25      , 0.2295082 , 0.54081633, 1.        , 0.        ],\n",
       "       [0.78846154, 0.2295082 , 0.60204082, 0.        , 1.        ],\n",
       "       [0.61538462, 0.2295082 , 0.44897959, 1.        , 0.        ],\n",
       "       [0.55769231, 0.2295082 , 0.40816327, 0.        , 1.        ],\n",
       "       [0.63461538, 0.23770492, 0.5       , 1.        , 0.        ],\n",
       "       [0.98076923, 0.23770492, 0.45918367, 0.        , 1.        ],\n",
       "       [0.17307692, 0.25409836, 0.51020408, 1.        , 0.        ],\n",
       "       [0.67307692, 0.25409836, 0.45918367, 0.        , 1.        ],\n",
       "       [1.        , 0.25409836, 0.56122449, 0.        , 1.        ],\n",
       "       [0.01923077, 0.25409836, 0.55102041, 0.        , 1.        ],\n",
       "       [0.94230769, 0.26229508, 0.52040816, 1.        , 0.        ],\n",
       "       [0.69230769, 0.26229508, 0.59183673, 1.        , 0.        ],\n",
       "       [0.86538462, 0.2704918 , 0.51020408, 0.        , 1.        ],\n",
       "       [0.        , 0.2704918 , 0.59183673, 0.        , 1.        ],\n",
       "       [0.48076923, 0.2704918 , 0.5       , 1.        , 0.        ],\n",
       "       [0.96153846, 0.2704918 , 0.47959184, 1.        , 0.        ],\n",
       "       [0.01923077, 0.2704918 , 0.59183673, 0.        , 1.        ],\n",
       "       [0.26923077, 0.2704918 , 0.46938776, 1.        , 0.        ],\n",
       "       [1.        , 0.27868852, 0.55102041, 0.        , 1.        ],\n",
       "       [0.55769231, 0.27868852, 0.41836735, 1.        , 0.        ],\n",
       "       [0.80769231, 0.28688525, 0.48979592, 1.        , 0.        ],\n",
       "       [0.80769231, 0.28688525, 0.56122449, 1.        , 0.        ],\n",
       "       [0.78846154, 0.31967213, 0.46938776, 0.        , 1.        ],\n",
       "       [0.15384615, 0.31967213, 0.54081633, 0.        , 1.        ],\n",
       "       [0.51923077, 0.31967213, 0.53061224, 1.        , 0.        ],\n",
       "       [0.42307692, 0.31967213, 0.47959184, 0.        , 1.        ],\n",
       "       [0.09615385, 0.31967213, 0.52040816, 1.        , 0.        ],\n",
       "       [0.59615385, 0.31967213, 0.41836735, 1.        , 0.        ],\n",
       "       [0.75      , 0.31967213, 0.51020408, 0.        , 1.        ],\n",
       "       [0.38461538, 0.31967213, 0.55102041, 0.        , 1.        ],\n",
       "       [0.94230769, 0.31967213, 0.40816327, 0.        , 1.        ],\n",
       "       [0.53846154, 0.31967213, 0.43877551, 1.        , 0.        ],\n",
       "       [0.05769231, 0.31967213, 0.57142857, 1.        , 0.        ],\n",
       "       [0.57692308, 0.31967213, 0.45918367, 0.        , 1.        ],\n",
       "       [0.71153846, 0.3442623 , 0.58163265, 1.        , 0.        ],\n",
       "       [0.07692308, 0.3442623 , 0.55102041, 1.        , 0.        ],\n",
       "       [0.30769231, 0.35245902, 0.60204082, 1.        , 0.        ],\n",
       "       [0.61538462, 0.35245902, 0.45918367, 1.        , 0.        ],\n",
       "       [0.96153846, 0.36065574, 0.55102041, 1.        , 0.        ],\n",
       "       [0.        , 0.36065574, 0.40816327, 0.        , 1.        ],\n",
       "       [0.57692308, 0.36885246, 0.48979592, 0.        , 1.        ],\n",
       "       [0.42307692, 0.36885246, 0.39795918, 1.        , 0.        ],\n",
       "       [0.26923077, 0.36885246, 0.41836735, 1.        , 0.        ],\n",
       "       [0.11538462, 0.36885246, 0.52040816, 0.        , 1.        ],\n",
       "       [0.55769231, 0.36885246, 0.46938776, 1.        , 0.        ],\n",
       "       [0.17307692, 0.36885246, 0.5       , 1.        , 0.        ],\n",
       "       [0.57692308, 0.37704918, 0.41836735, 0.        , 1.        ],\n",
       "       [0.03846154, 0.37704918, 0.48979592, 0.        , 1.        ],\n",
       "       [0.09615385, 0.3852459 , 0.40816327, 1.        , 0.        ],\n",
       "       [0.59615385, 0.3852459 , 0.47959184, 1.        , 0.        ],\n",
       "       [0.94230769, 0.3852459 , 0.59183673, 0.        , 1.        ],\n",
       "       [0.15384615, 0.3852459 , 0.55102041, 0.        , 1.        ],\n",
       "       [0.59615385, 0.3852459 , 0.56122449, 0.        , 1.        ],\n",
       "       [0.05769231, 0.3852459 , 0.41836735, 1.        , 0.        ],\n",
       "       [0.92307692, 0.39344262, 0.5       , 1.        , 0.        ],\n",
       "       [0.69230769, 0.39344262, 0.45918367, 0.        , 1.        ],\n",
       "       [0.96153846, 0.39344262, 0.42857143, 0.        , 1.        ],\n",
       "       [0.92307692, 0.39344262, 0.47959184, 0.        , 1.        ],\n",
       "       [0.90384615, 0.39344262, 0.52040816, 0.        , 1.        ],\n",
       "       [0.01923077, 0.39344262, 0.54081633, 1.        , 0.        ],\n",
       "       [0.38461538, 0.40163934, 0.41836735, 1.        , 0.        ],\n",
       "       [0.01923077, 0.40163934, 0.45918367, 0.        , 1.        ],\n",
       "       [0.        , 0.40983607, 0.47959184, 1.        , 0.        ],\n",
       "       [0.01923077, 0.40983607, 0.5       , 1.        , 0.        ],\n",
       "       [0.86538462, 0.40983607, 0.42857143, 1.        , 0.        ],\n",
       "       [0.59615385, 0.40983607, 0.59183673, 1.        , 0.        ],\n",
       "       [0.63461538, 0.42622951, 0.42857143, 1.        , 0.        ],\n",
       "       [0.61538462, 0.42622951, 0.57142857, 1.        , 0.        ],\n",
       "       [0.17307692, 0.42622951, 0.56122449, 0.        , 1.        ],\n",
       "       [0.38461538, 0.42622951, 0.39795918, 1.        , 0.        ],\n",
       "       [0.42307692, 0.44262295, 0.58163265, 1.        , 0.        ],\n",
       "       [0.40384615, 0.44262295, 0.91836735, 0.        , 1.        ],\n",
       "       [0.09615385, 0.45081967, 0.28571429, 1.        , 0.        ],\n",
       "       [0.25      , 0.45081967, 0.7755102 , 1.        , 0.        ],\n",
       "       [0.48076923, 0.45901639, 0.34693878, 0.        , 1.        ],\n",
       "       [0.42307692, 0.45901639, 0.95918367, 0.        , 1.        ],\n",
       "       [0.78846154, 0.45901639, 0.10204082, 0.        , 1.        ],\n",
       "       [0.38461538, 0.45901639, 0.75510204, 0.        , 1.        ],\n",
       "       [0.55769231, 0.45901639, 0.08163265, 0.        , 1.        ],\n",
       "       [0.40384615, 0.45901639, 0.75510204, 0.        , 1.        ],\n",
       "       [0.13461538, 0.46721311, 0.33673469, 1.        , 0.        ],\n",
       "       [0.25      , 0.46721311, 0.71428571, 1.        , 0.        ],\n",
       "       [0.03846154, 0.47540984, 0.04081633, 0.        , 1.        ],\n",
       "       [0.21153846, 0.47540984, 0.8877551 , 1.        , 0.        ],\n",
       "       [0.5       , 0.47540984, 0.06122449, 1.        , 0.        ],\n",
       "       [0.26923077, 0.47540984, 0.73469388, 0.        , 1.        ],\n",
       "       [0.01923077, 0.48360656, 0.09183673, 0.        , 1.        ],\n",
       "       [0.32692308, 0.48360656, 0.7244898 , 1.        , 0.        ],\n",
       "       [0.75      , 0.49180328, 0.04081633, 1.        , 0.        ],\n",
       "       [0.26923077, 0.49180328, 0.93877551, 0.        , 1.        ],\n",
       "       [0.19230769, 0.5       , 0.39795918, 1.        , 0.        ],\n",
       "       [0.26923077, 0.5       , 0.87755102, 1.        , 0.        ],\n",
       "       [0.13461538, 0.50819672, 0.1122449 , 0.        , 1.        ],\n",
       "       [0.19230769, 0.50819672, 0.97959184, 0.        , 1.        ],\n",
       "       [0.57692308, 0.50819672, 0.35714286, 0.        , 1.        ],\n",
       "       [0.26923077, 0.50819672, 0.74489796, 1.        , 0.        ],\n",
       "       [0.30769231, 0.51639344, 0.21428571, 1.        , 0.        ],\n",
       "       [0.30769231, 0.51639344, 0.90816327, 0.        , 1.        ],\n",
       "       [0.48076923, 0.51639344, 0.16326531, 0.        , 1.        ],\n",
       "       [0.40384615, 0.51639344, 0.8877551 , 0.        , 1.        ],\n",
       "       [0.5       , 0.51639344, 0.19387755, 1.        , 0.        ],\n",
       "       [0.38461538, 0.51639344, 0.76530612, 1.        , 0.        ],\n",
       "       [0.55769231, 0.51639344, 0.15306122, 1.        , 0.        ],\n",
       "       [0.17307692, 0.51639344, 0.89795918, 1.        , 0.        ],\n",
       "       [0.36538462, 0.51639344, 0.        , 0.        , 1.        ],\n",
       "       [0.23076923, 0.51639344, 0.78571429, 1.        , 0.        ],\n",
       "       [0.30769231, 0.51639344, 0.        , 0.        , 1.        ],\n",
       "       [0.23076923, 0.51639344, 0.73469388, 1.        , 0.        ],\n",
       "       [0.73076923, 0.52459016, 0.34693878, 1.        , 0.        ],\n",
       "       [0.21153846, 0.52459016, 0.83673469, 1.        , 0.        ],\n",
       "       [0.01923077, 0.54098361, 0.04081633, 0.        , 1.        ],\n",
       "       [0.25      , 0.54098361, 0.93877551, 1.        , 0.        ],\n",
       "       [0.61538462, 0.57377049, 0.25510204, 0.        , 1.        ],\n",
       "       [0.34615385, 0.57377049, 0.75510204, 1.        , 0.        ],\n",
       "       [0.46153846, 0.58196721, 0.19387755, 0.        , 1.        ],\n",
       "       [0.28846154, 0.58196721, 0.95918367, 1.        , 0.        ],\n",
       "       [0.34615385, 0.59016393, 0.26530612, 1.        , 0.        ],\n",
       "       [0.26923077, 0.59016393, 0.63265306, 0.        , 1.        ],\n",
       "       [0.42307692, 0.59016393, 0.12244898, 0.        , 1.        ],\n",
       "       [0.19230769, 0.59016393, 0.75510204, 0.        , 1.        ],\n",
       "       [0.34615385, 0.59016393, 0.09183673, 0.        , 1.        ],\n",
       "       [0.34615385, 0.59016393, 0.92857143, 0.        , 1.        ],\n",
       "       [0.65384615, 0.59836066, 0.12244898, 1.        , 0.        ],\n",
       "       [0.23076923, 0.59836066, 0.86734694, 1.        , 0.        ],\n",
       "       [0.76923077, 0.59836066, 0.14285714, 0.        , 1.        ],\n",
       "       [0.17307692, 0.59836066, 0.69387755, 0.        , 1.        ],\n",
       "       [0.78846154, 0.63934426, 0.13265306, 0.        , 1.        ],\n",
       "       [0.32692308, 0.63934426, 0.90816327, 0.        , 1.        ],\n",
       "       [0.36538462, 0.67213115, 0.31632653, 1.        , 0.        ],\n",
       "       [0.26923077, 0.67213115, 0.86734694, 1.        , 0.        ],\n",
       "       [0.53846154, 0.68032787, 0.14285714, 0.        , 1.        ],\n",
       "       [0.21153846, 0.68032787, 0.8877551 , 1.        , 0.        ],\n",
       "       [0.44230769, 0.68852459, 0.3877551 , 1.        , 0.        ],\n",
       "       [0.23076923, 0.68852459, 0.97959184, 0.        , 1.        ],\n",
       "       [0.69230769, 0.70491803, 0.23469388, 1.        , 0.        ],\n",
       "       [0.19230769, 0.70491803, 0.68367347, 0.        , 1.        ],\n",
       "       [0.44230769, 0.72131148, 0.16326531, 1.        , 0.        ],\n",
       "       [0.34615385, 0.72131148, 0.85714286, 1.        , 0.        ],\n",
       "       [0.30769231, 0.72131148, 0.2244898 , 1.        , 0.        ],\n",
       "       [0.26923077, 0.72131148, 0.69387755, 1.        , 0.        ],\n",
       "       [0.28846154, 0.80327869, 0.07142857, 0.        , 1.        ],\n",
       "       [0.38461538, 0.80327869, 0.91836735, 1.        , 0.        ],\n",
       "       [0.55769231, 0.86065574, 0.15306122, 1.        , 0.        ],\n",
       "       [0.32692308, 0.86065574, 0.79591837, 1.        , 0.        ],\n",
       "       [0.51923077, 0.90983607, 0.2755102 , 1.        , 0.        ],\n",
       "       [0.26923077, 0.90983607, 0.74489796, 0.        , 1.        ],\n",
       "       [0.26923077, 1.        , 0.17346939, 0.        , 1.        ],\n",
       "       [0.23076923, 1.        , 0.83673469, 0.        , 1.        ]])"
      ]
     },
     "execution_count": 52,
     "metadata": {},
     "output_type": "execute_result"
    }
   ],
   "source": [
    "data_prepos = data_prepos.to_numpy()\n",
    "data_prepos"
   ]
  },
  {
   "cell_type": "code",
   "execution_count": 53,
   "metadata": {},
   "outputs": [
    {
     "data": {
      "text/plain": [
       "array([0.05769231, 0.        , 0.81632653, 0.        , 1.        ])"
      ]
     },
     "execution_count": 53,
     "metadata": {},
     "output_type": "execute_result"
    }
   ],
   "source": [
    "data_prepos[1]"
   ]
  },
  {
   "cell_type": "code",
   "execution_count": 54,
   "metadata": {
    "scrolled": true
   },
   "outputs": [
    {
     "name": "stdout",
     "output_type": "stream",
     "text": [
      "\n",
      "\n",
      "bobot akhir =\n",
      " [[0.20731817 0.58667576]\n",
      " [0.41960914 0.41188813]\n",
      " [0.69914172 0.31151119]]\n"
     ]
    }
   ],
   "source": [
    "training(data_num.to_numpy(),0.6,2)\n",
    "# learnig rate = 0.6 & cluster = 2 "
   ]
  },
  {
   "cell_type": "code",
   "execution_count": 55,
   "metadata": {},
   "outputs": [
    {
     "data": {
      "text/html": [
       "<div>\n",
       "<style scoped>\n",
       "    .dataframe tbody tr th:only-of-type {\n",
       "        vertical-align: middle;\n",
       "    }\n",
       "\n",
       "    .dataframe tbody tr th {\n",
       "        vertical-align: top;\n",
       "    }\n",
       "\n",
       "    .dataframe thead th {\n",
       "        text-align: right;\n",
       "    }\n",
       "</style>\n",
       "<table border=\"1\" class=\"dataframe\">\n",
       "  <thead>\n",
       "    <tr style=\"text-align: right;\">\n",
       "      <th></th>\n",
       "      <th>Gender</th>\n",
       "      <th>Age</th>\n",
       "      <th>Annual Income (k$)</th>\n",
       "      <th>Spending Score (1-100)</th>\n",
       "      <th>cluster</th>\n",
       "    </tr>\n",
       "  </thead>\n",
       "  <tbody>\n",
       "    <tr>\n",
       "      <th>0</th>\n",
       "      <td>Male</td>\n",
       "      <td>19</td>\n",
       "      <td>15</td>\n",
       "      <td>39</td>\n",
       "      <td>0</td>\n",
       "    </tr>\n",
       "    <tr>\n",
       "      <th>1</th>\n",
       "      <td>Male</td>\n",
       "      <td>21</td>\n",
       "      <td>15</td>\n",
       "      <td>81</td>\n",
       "      <td>0</td>\n",
       "    </tr>\n",
       "    <tr>\n",
       "      <th>2</th>\n",
       "      <td>Female</td>\n",
       "      <td>20</td>\n",
       "      <td>16</td>\n",
       "      <td>6</td>\n",
       "      <td>1</td>\n",
       "    </tr>\n",
       "    <tr>\n",
       "      <th>3</th>\n",
       "      <td>Female</td>\n",
       "      <td>23</td>\n",
       "      <td>16</td>\n",
       "      <td>77</td>\n",
       "      <td>0</td>\n",
       "    </tr>\n",
       "    <tr>\n",
       "      <th>4</th>\n",
       "      <td>Female</td>\n",
       "      <td>31</td>\n",
       "      <td>17</td>\n",
       "      <td>40</td>\n",
       "      <td>0</td>\n",
       "    </tr>\n",
       "  </tbody>\n",
       "</table>\n",
       "</div>"
      ],
      "text/plain": [
       "   Gender  Age  Annual Income (k$)  Spending Score (1-100)  cluster\n",
       "0    Male   19                  15                      39        0\n",
       "1    Male   21                  15                      81        0\n",
       "2  Female   20                  16                       6        1\n",
       "3  Female   23                  16                      77        0\n",
       "4  Female   31                  17                      40        0"
      ]
     },
     "execution_count": 55,
     "metadata": {},
     "output_type": "execute_result"
    }
   ],
   "source": [
    "data['cluster']=cluster\n",
    "data.head()"
   ]
  },
  {
   "cell_type": "code",
   "execution_count": 56,
   "metadata": {},
   "outputs": [
    {
     "data": {
      "text/plain": [
       "1    103\n",
       "0     97\n",
       "Name: cluster, dtype: int64"
      ]
     },
     "execution_count": 56,
     "metadata": {},
     "output_type": "execute_result"
    }
   ],
   "source": [
    "data['cluster'].value_counts()"
   ]
  },
  {
   "cell_type": "markdown",
   "metadata": {},
   "source": [
    "## Visualizing cluster"
   ]
  },
  {
   "cell_type": "code",
   "execution_count": 57,
   "metadata": {},
   "outputs": [
    {
     "data": {
      "image/png": "[encoded data removed]",
      "text/plain": [
       "<Figure size 432x288 with 1 Axes>"
      ]
     },
     "metadata": {
      "needs_background": "light"
     },
     "output_type": "display_data"
    }
   ],
   "source": [
    "sns.scatterplot(x=data['Age'],y=data['Spending Score (1-100)'],hue=data.cluster)\n",
    "plt.title('Age vs Spending Score')\n",
    "plt.show()"
   ]
  },
  {
   "cell_type": "code",
   "execution_count": null,
   "metadata": {},
   "outputs": [],
   "source": []
  },
  {
   "cell_type": "markdown",
   "metadata": {},
   "source": [
    "# 2. IRIS"
   ]
  },
  {
   "cell_type": "code",
   "execution_count": 58,
   "metadata": {},
   "outputs": [
    {
     "data": {
      "text/html": [
       "<div>\n",
       "<style scoped>\n",
       "    .dataframe tbody tr th:only-of-type {\n",
       "        vertical-align: middle;\n",
       "    }\n",
       "\n",
       "    .dataframe tbody tr th {\n",
       "        vertical-align: top;\n",
       "    }\n",
       "\n",
       "    .dataframe thead th {\n",
       "        text-align: right;\n",
       "    }\n",
       "</style>\n",
       "<table border=\"1\" class=\"dataframe\">\n",
       "  <thead>\n",
       "    <tr style=\"text-align: right;\">\n",
       "      <th></th>\n",
       "      <th>SepalLengthCm</th>\n",
       "      <th>SepalWidthCm</th>\n",
       "      <th>PetalLengthCm</th>\n",
       "      <th>PetalWidthCm</th>\n",
       "      <th>Species</th>\n",
       "    </tr>\n",
       "  </thead>\n",
       "  <tbody>\n",
       "    <tr>\n",
       "      <th>0</th>\n",
       "      <td>5.1</td>\n",
       "      <td>3.5</td>\n",
       "      <td>1.4</td>\n",
       "      <td>0.2</td>\n",
       "      <td>Iris-setosa</td>\n",
       "    </tr>\n",
       "    <tr>\n",
       "      <th>1</th>\n",
       "      <td>4.9</td>\n",
       "      <td>3.0</td>\n",
       "      <td>1.4</td>\n",
       "      <td>0.2</td>\n",
       "      <td>Iris-setosa</td>\n",
       "    </tr>\n",
       "    <tr>\n",
       "      <th>2</th>\n",
       "      <td>4.7</td>\n",
       "      <td>3.2</td>\n",
       "      <td>1.3</td>\n",
       "      <td>0.2</td>\n",
       "      <td>Iris-setosa</td>\n",
       "    </tr>\n",
       "    <tr>\n",
       "      <th>3</th>\n",
       "      <td>4.6</td>\n",
       "      <td>3.1</td>\n",
       "      <td>1.5</td>\n",
       "      <td>0.2</td>\n",
       "      <td>Iris-setosa</td>\n",
       "    </tr>\n",
       "    <tr>\n",
       "      <th>4</th>\n",
       "      <td>5.0</td>\n",
       "      <td>3.6</td>\n",
       "      <td>1.4</td>\n",
       "      <td>0.2</td>\n",
       "      <td>Iris-setosa</td>\n",
       "    </tr>\n",
       "  </tbody>\n",
       "</table>\n",
       "</div>"
      ],
      "text/plain": [
       "   SepalLengthCm  SepalWidthCm  PetalLengthCm  PetalWidthCm      Species\n",
       "0            5.1           3.5            1.4           0.2  Iris-setosa\n",
       "1            4.9           3.0            1.4           0.2  Iris-setosa\n",
       "2            4.7           3.2            1.3           0.2  Iris-setosa\n",
       "3            4.6           3.1            1.5           0.2  Iris-setosa\n",
       "4            5.0           3.6            1.4           0.2  Iris-setosa"
      ]
     },
     "execution_count": 58,
     "metadata": {},
     "output_type": "execute_result"
    }
   ],
   "source": [
    "df_iris = pd.read_csv('Iris.csv')\n",
    "df_iris = df_iris.drop('Id', axis=1)\n",
    "df_iris.head()"
   ]
  },
  {
   "cell_type": "code",
   "execution_count": 59,
   "metadata": {
    "scrolled": true
   },
   "outputs": [
    {
     "data": {
      "text/plain": [
       "Iris-setosa        50\n",
       "Iris-virginica     50\n",
       "Iris-versicolor    50\n",
       "Name: Species, dtype: int64"
      ]
     },
     "execution_count": 59,
     "metadata": {},
     "output_type": "execute_result"
    }
   ],
   "source": [
    "df_iris['Species'].value_counts()"
   ]
  },
  {
   "cell_type": "code",
   "execution_count": 60,
   "metadata": {},
   "outputs": [
    {
     "data": {
      "image/png": "[encoded data removed]",
      "text/plain": [
       "<Figure size 432x288 with 1 Axes>"
      ]
     },
     "metadata": {
      "needs_background": "light"
     },
     "output_type": "display_data"
    }
   ],
   "source": [
    "sns.scatterplot(x=df_iris['PetalLengthCm'],y=df_iris['PetalWidthCm'],hue=df_iris.Species)\n",
    "plt.show()"
   ]
  },
  {
   "cell_type": "markdown",
   "metadata": {},
   "source": [
    "### Separating labels to be a <b style='color:blue'>Clustering task</b>"
   ]
  },
  {
   "cell_type": "code",
   "execution_count": 61,
   "metadata": {},
   "outputs": [
    {
     "data": {
      "text/html": [
       "<div>\n",
       "<style scoped>\n",
       "    .dataframe tbody tr th:only-of-type {\n",
       "        vertical-align: middle;\n",
       "    }\n",
       "\n",
       "    .dataframe tbody tr th {\n",
       "        vertical-align: top;\n",
       "    }\n",
       "\n",
       "    .dataframe thead th {\n",
       "        text-align: right;\n",
       "    }\n",
       "</style>\n",
       "<table border=\"1\" class=\"dataframe\">\n",
       "  <thead>\n",
       "    <tr style=\"text-align: right;\">\n",
       "      <th></th>\n",
       "      <th>SepalLengthCm</th>\n",
       "      <th>SepalWidthCm</th>\n",
       "      <th>PetalLengthCm</th>\n",
       "      <th>PetalWidthCm</th>\n",
       "    </tr>\n",
       "  </thead>\n",
       "  <tbody>\n",
       "    <tr>\n",
       "      <th>0</th>\n",
       "      <td>5.1</td>\n",
       "      <td>3.5</td>\n",
       "      <td>1.4</td>\n",
       "      <td>0.2</td>\n",
       "    </tr>\n",
       "    <tr>\n",
       "      <th>1</th>\n",
       "      <td>4.9</td>\n",
       "      <td>3.0</td>\n",
       "      <td>1.4</td>\n",
       "      <td>0.2</td>\n",
       "    </tr>\n",
       "    <tr>\n",
       "      <th>2</th>\n",
       "      <td>4.7</td>\n",
       "      <td>3.2</td>\n",
       "      <td>1.3</td>\n",
       "      <td>0.2</td>\n",
       "    </tr>\n",
       "    <tr>\n",
       "      <th>3</th>\n",
       "      <td>4.6</td>\n",
       "      <td>3.1</td>\n",
       "      <td>1.5</td>\n",
       "      <td>0.2</td>\n",
       "    </tr>\n",
       "    <tr>\n",
       "      <th>4</th>\n",
       "      <td>5.0</td>\n",
       "      <td>3.6</td>\n",
       "      <td>1.4</td>\n",
       "      <td>0.2</td>\n",
       "    </tr>\n",
       "  </tbody>\n",
       "</table>\n",
       "</div>"
      ],
      "text/plain": [
       "   SepalLengthCm  SepalWidthCm  PetalLengthCm  PetalWidthCm\n",
       "0            5.1           3.5            1.4           0.2\n",
       "1            4.9           3.0            1.4           0.2\n",
       "2            4.7           3.2            1.3           0.2\n",
       "3            4.6           3.1            1.5           0.2\n",
       "4            5.0           3.6            1.4           0.2"
      ]
     },
     "execution_count": 61,
     "metadata": {},
     "output_type": "execute_result"
    }
   ],
   "source": [
    "df = df_iris.select_dtypes(np.number)\n",
    "df.head()"
   ]
  },
  {
   "cell_type": "code",
   "execution_count": 62,
   "metadata": {},
   "outputs": [
    {
     "data": {
      "text/html": [
       "<div>\n",
       "<style scoped>\n",
       "    .dataframe tbody tr th:only-of-type {\n",
       "        vertical-align: middle;\n",
       "    }\n",
       "\n",
       "    .dataframe tbody tr th {\n",
       "        vertical-align: top;\n",
       "    }\n",
       "\n",
       "    .dataframe thead th {\n",
       "        text-align: right;\n",
       "    }\n",
       "</style>\n",
       "<table border=\"1\" class=\"dataframe\">\n",
       "  <thead>\n",
       "    <tr style=\"text-align: right;\">\n",
       "      <th></th>\n",
       "      <th>SepalLengthCm</th>\n",
       "      <th>SepalWidthCm</th>\n",
       "      <th>PetalLengthCm</th>\n",
       "      <th>PetalWidthCm</th>\n",
       "    </tr>\n",
       "  </thead>\n",
       "  <tbody>\n",
       "    <tr>\n",
       "      <th>0</th>\n",
       "      <td>0.222222</td>\n",
       "      <td>0.625000</td>\n",
       "      <td>0.067797</td>\n",
       "      <td>0.041667</td>\n",
       "    </tr>\n",
       "    <tr>\n",
       "      <th>1</th>\n",
       "      <td>0.166667</td>\n",
       "      <td>0.416667</td>\n",
       "      <td>0.067797</td>\n",
       "      <td>0.041667</td>\n",
       "    </tr>\n",
       "    <tr>\n",
       "      <th>2</th>\n",
       "      <td>0.111111</td>\n",
       "      <td>0.500000</td>\n",
       "      <td>0.050847</td>\n",
       "      <td>0.041667</td>\n",
       "    </tr>\n",
       "    <tr>\n",
       "      <th>3</th>\n",
       "      <td>0.083333</td>\n",
       "      <td>0.458333</td>\n",
       "      <td>0.084746</td>\n",
       "      <td>0.041667</td>\n",
       "    </tr>\n",
       "    <tr>\n",
       "      <th>4</th>\n",
       "      <td>0.194444</td>\n",
       "      <td>0.666667</td>\n",
       "      <td>0.067797</td>\n",
       "      <td>0.041667</td>\n",
       "    </tr>\n",
       "  </tbody>\n",
       "</table>\n",
       "</div>"
      ],
      "text/plain": [
       "   SepalLengthCm  SepalWidthCm  PetalLengthCm  PetalWidthCm\n",
       "0       0.222222      0.625000       0.067797      0.041667\n",
       "1       0.166667      0.416667       0.067797      0.041667\n",
       "2       0.111111      0.500000       0.050847      0.041667\n",
       "3       0.083333      0.458333       0.084746      0.041667\n",
       "4       0.194444      0.666667       0.067797      0.041667"
      ]
     },
     "execution_count": 62,
     "metadata": {},
     "output_type": "execute_result"
    }
   ],
   "source": [
    "# harus discaling, krn kalo tidak akan jadi 1 cluster semua\n",
    "scaler = MinMaxScaler()\n",
    "df = pd.DataFrame(scaler.fit_transform(df), columns=df.columns)\n",
    "df.head()"
   ]
  },
  {
   "cell_type": "code",
   "execution_count": 63,
   "metadata": {},
   "outputs": [
    {
     "name": "stdout",
     "output_type": "stream",
     "text": [
      "\n",
      "\n",
      "bobot akhir =\n",
      " [[0.1947412  0.70490485 0.44070828]\n",
      " [0.58809999 0.45478654 0.3067203 ]\n",
      " [0.0788744  0.79580319 0.58373657]\n",
      " [0.06068765 0.83400789 0.56105646]]\n"
     ]
    }
   ],
   "source": [
    "training(df.to_numpy(),0.6,3,40)"
   ]
  },
  {
   "cell_type": "code",
   "execution_count": 64,
   "metadata": {},
   "outputs": [
    {
     "data": {
      "text/html": [
       "<div>\n",
       "<style scoped>\n",
       "    .dataframe tbody tr th:only-of-type {\n",
       "        vertical-align: middle;\n",
       "    }\n",
       "\n",
       "    .dataframe tbody tr th {\n",
       "        vertical-align: top;\n",
       "    }\n",
       "\n",
       "    .dataframe thead th {\n",
       "        text-align: right;\n",
       "    }\n",
       "</style>\n",
       "<table border=\"1\" class=\"dataframe\">\n",
       "  <thead>\n",
       "    <tr style=\"text-align: right;\">\n",
       "      <th></th>\n",
       "      <th>SepalLengthCm</th>\n",
       "      <th>SepalWidthCm</th>\n",
       "      <th>PetalLengthCm</th>\n",
       "      <th>PetalWidthCm</th>\n",
       "      <th>Species_clus</th>\n",
       "    </tr>\n",
       "  </thead>\n",
       "  <tbody>\n",
       "    <tr>\n",
       "      <th>145</th>\n",
       "      <td>0.666667</td>\n",
       "      <td>0.416667</td>\n",
       "      <td>0.711864</td>\n",
       "      <td>0.916667</td>\n",
       "      <td>1</td>\n",
       "    </tr>\n",
       "    <tr>\n",
       "      <th>146</th>\n",
       "      <td>0.555556</td>\n",
       "      <td>0.208333</td>\n",
       "      <td>0.677966</td>\n",
       "      <td>0.750000</td>\n",
       "      <td>2</td>\n",
       "    </tr>\n",
       "    <tr>\n",
       "      <th>147</th>\n",
       "      <td>0.611111</td>\n",
       "      <td>0.416667</td>\n",
       "      <td>0.711864</td>\n",
       "      <td>0.791667</td>\n",
       "      <td>1</td>\n",
       "    </tr>\n",
       "    <tr>\n",
       "      <th>148</th>\n",
       "      <td>0.527778</td>\n",
       "      <td>0.583333</td>\n",
       "      <td>0.745763</td>\n",
       "      <td>0.916667</td>\n",
       "      <td>1</td>\n",
       "    </tr>\n",
       "    <tr>\n",
       "      <th>149</th>\n",
       "      <td>0.444444</td>\n",
       "      <td>0.416667</td>\n",
       "      <td>0.694915</td>\n",
       "      <td>0.708333</td>\n",
       "      <td>2</td>\n",
       "    </tr>\n",
       "  </tbody>\n",
       "</table>\n",
       "</div>"
      ],
      "text/plain": [
       "     SepalLengthCm  SepalWidthCm  PetalLengthCm  PetalWidthCm  Species_clus\n",
       "145       0.666667      0.416667       0.711864      0.916667             1\n",
       "146       0.555556      0.208333       0.677966      0.750000             2\n",
       "147       0.611111      0.416667       0.711864      0.791667             1\n",
       "148       0.527778      0.583333       0.745763      0.916667             1\n",
       "149       0.444444      0.416667       0.694915      0.708333             2"
      ]
     },
     "execution_count": 64,
     "metadata": {},
     "output_type": "execute_result"
    }
   ],
   "source": [
    "df['Species_clus']=cluster\n",
    "df.tail()"
   ]
  },
  {
   "cell_type": "code",
   "execution_count": 65,
   "metadata": {
    "scrolled": true
   },
   "outputs": [
    {
     "data": {
      "text/plain": [
       "2    61\n",
       "0    50\n",
       "1    39\n",
       "Name: Species_clus, dtype: int64"
      ]
     },
     "execution_count": 65,
     "metadata": {},
     "output_type": "execute_result"
    }
   ],
   "source": [
    "df['Species_clus'].value_counts()"
   ]
  },
  {
   "cell_type": "code",
   "execution_count": 66,
   "metadata": {},
   "outputs": [
    {
     "data": {
      "image/png": "[encoded data removed]",
      "text/plain": [
       "<Figure size 432x288 with 1 Axes>"
      ]
     },
     "metadata": {
      "needs_background": "light"
     },
     "output_type": "display_data"
    }
   ],
   "source": [
    "sns.scatterplot(x=df['PetalLengthCm'],y=df['PetalWidthCm'],hue=df.Species_clus)\n",
    "plt.title('Hasil Clustering')\n",
    "plt.show()"
   ]
  },
  {
   "cell_type": "code",
   "execution_count": null,
   "metadata": {},
   "outputs": [],
   "source": []
  },
  {
   "cell_type": "code",
   "execution_count": null,
   "metadata": {},
   "outputs": [],
   "source": []
  },
  {
   "cell_type": "code",
   "execution_count": null,
   "metadata": {},
   "outputs": [],
   "source": []
  },
  {
   "cell_type": "code",
   "execution_count": null,
   "metadata": {},
   "outputs": [],
   "source": []
  },
  {
   "cell_type": "code",
   "execution_count": null,
   "metadata": {},
   "outputs": [],
   "source": []
  }
 ],
 "metadata": {
  "kernelspec": {
   "display_name": "Python 3",
   "language": "python",
   "name": "python3"
  },
  "language_info": {
   "codemirror_mode": {
    "name": "ipython",
    "version": 3
   },
   "file_extension": ".py",
   "mimetype": "text/x-python",
   "name": "python",
   "nbconvert_exporter": "python",
   "pygments_lexer": "ipython3",
   "version": "3.8.5"
  }
 },
 "nbformat": 4,
 "nbformat_minor": 4
}
